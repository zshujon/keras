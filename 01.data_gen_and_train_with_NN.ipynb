{
 "cells": [
  {
   "cell_type": "markdown",
   "id": "mineral-communications",
   "metadata": {},
   "source": [
    "# Data Gen"
   ]
  },
  {
   "cell_type": "code",
   "execution_count": 8,
   "id": "constitutional-baking",
   "metadata": {},
   "outputs": [],
   "source": [
    "import numpy as np\n",
    "from random import randint\n",
    "from sklearn.utils import shuffle\n",
    "from sklearn.preprocessing import MinMaxScaler"
   ]
  },
  {
   "cell_type": "markdown",
   "id": "guilty-florence",
   "metadata": {},
   "source": [
    "### Train data"
   ]
  },
  {
   "cell_type": "code",
   "execution_count": 3,
   "id": "wrapped-davis",
   "metadata": {},
   "outputs": [],
   "source": [
    "train_labels = []\n",
    "train_samples = []"
   ]
  },
  {
   "cell_type": "code",
   "execution_count": 7,
   "id": "seasonal-speech",
   "metadata": {},
   "outputs": [],
   "source": [
    "for i in range(50):\n",
    "    younger_rnd = randint(13, 64)\n",
    "    train_samples.append(younger_rnd)\n",
    "    train_labels.append(1)\n",
    "    \n",
    "    older_rnd = randint(65, 100)\n",
    "    train_samples.append(older_rnd)\n",
    "    train_labels.append(0)\n",
    "\n",
    "for i in range(1000):\n",
    "    younger_rnd = randint(13, 64)\n",
    "    train_samples.append(younger_rnd)\n",
    "    train_labels.append(0)\n",
    "    \n",
    "    older_rnd = randint(65, 100)\n",
    "    train_samples.append(older_rnd)\n",
    "    train_labels.append(1)"
   ]
  },
  {
   "cell_type": "code",
   "execution_count": 9,
   "id": "recorded-jacob",
   "metadata": {},
   "outputs": [],
   "source": [
    "train_labels = np.array(train_labels)\n",
    "train_samples = np.array(train_samples)\n",
    "train_labels, train_samples = shuffle(train_labels, train_samples)"
   ]
  },
  {
   "cell_type": "code",
   "execution_count": 13,
   "id": "arbitrary-relation",
   "metadata": {},
   "outputs": [],
   "source": [
    "scaler = MinMaxScaler(feature_range=(0, 1))\n",
    "train_samples_scald = scaler.fit_transform(train_samples.reshape(-1, 1)) # fit_transform function dosnt allow 1-D data"
   ]
  },
  {
   "cell_type": "code",
   "execution_count": 23,
   "id": "nervous-still",
   "metadata": {},
   "outputs": [
    {
     "data": {
      "text/plain": [
       "(2200, 1)"
      ]
     },
     "execution_count": 23,
     "metadata": {},
     "output_type": "execute_result"
    }
   ],
   "source": [
    "train_samples_scald.shape"
   ]
  },
  {
   "cell_type": "markdown",
   "id": "critical-premium",
   "metadata": {},
   "source": [
    "# Simple NN"
   ]
  },
  {
   "cell_type": "code",
   "execution_count": 18,
   "id": "parliamentary-korean",
   "metadata": {},
   "outputs": [],
   "source": [
    "import tensorflow as tf\n",
    "from tensorflow import keras \n",
    "from tensorflow.keras.models import Sequential\n",
    "from tensorflow.keras.layers import Activation, Dense\n",
    "from tensorflow.keras.optimizers import Adam\n",
    "from tensorflow.keras.metrics import categorical_accuracy"
   ]
  },
  {
   "cell_type": "code",
   "execution_count": 19,
   "id": "continuing-northern",
   "metadata": {},
   "outputs": [
    {
     "name": "stdout",
     "output_type": "stream",
     "text": [
      "Number of GPU: []\n"
     ]
    }
   ],
   "source": [
    "_gpu = tf.config.experimental.list_physical_devices('GPU')\n",
    "print(f'Number of GPU: {_gpu}')\n",
    "if _gpu:\n",
    "    tf.config.experimental.set_memory_growth(_gpu[0], True)"
   ]
  },
  {
   "cell_type": "code",
   "execution_count": 27,
   "id": "moving-melbourne",
   "metadata": {},
   "outputs": [
    {
     "name": "stdout",
     "output_type": "stream",
     "text": [
      "Model: \"sequential_2\"\n",
      "_________________________________________________________________\n",
      "Layer (type)                 Output Shape              Param #   \n",
      "=================================================================\n",
      "dense_6 (Dense)              (None, 16)                32        \n",
      "_________________________________________________________________\n",
      "dense_7 (Dense)              (None, 32)                544       \n",
      "_________________________________________________________________\n",
      "dense_8 (Dense)              (None, 2)                 66        \n",
      "=================================================================\n",
      "Total params: 642\n",
      "Trainable params: 642\n",
      "Non-trainable params: 0\n",
      "_________________________________________________________________\n"
     ]
    }
   ],
   "source": [
    "model = Sequential([\n",
    "    Dense(16, input_shape=(1,), activation='relu'),\n",
    "    Dense(32, activation='relu'),\n",
    "    Dense(2, activation='softmax')\n",
    "])\n",
    "\n",
    "model.summary()"
   ]
  },
  {
   "cell_type": "markdown",
   "id": "settled-reconstruction",
   "metadata": {},
   "source": [
    "### Optimiz and Compile with Loss"
   ]
  },
  {
   "cell_type": "code",
   "execution_count": 28,
   "id": "linear-packaging",
   "metadata": {},
   "outputs": [],
   "source": [
    "optim = Adam(learning_rate=0.0001)\n",
    "model.compile(optimizer=optim, loss='sparse_categorical_crossentropy', metrics=['accuracy'])"
   ]
  },
  {
   "cell_type": "markdown",
   "id": "alive-dominican",
   "metadata": {},
   "source": [
    "### Train the NN or model"
   ]
  },
  {
   "cell_type": "code",
   "execution_count": 29,
   "id": "promotional-texture",
   "metadata": {},
   "outputs": [
    {
     "name": "stdout",
     "output_type": "stream",
     "text": [
      "Epoch 1/30\n",
      "198/198 - 1s - loss: 0.6471 - accuracy: 0.5520 - val_loss: 0.6380 - val_accuracy: 0.6045\n",
      "Epoch 2/30\n",
      "198/198 - 0s - loss: 0.6207 - accuracy: 0.6247 - val_loss: 0.6095 - val_accuracy: 0.6909\n",
      "Epoch 3/30\n",
      "198/198 - 0s - loss: 0.5942 - accuracy: 0.7025 - val_loss: 0.5850 - val_accuracy: 0.7409\n",
      "Epoch 4/30\n",
      "198/198 - 0s - loss: 0.5702 - accuracy: 0.7298 - val_loss: 0.5608 - val_accuracy: 0.7773\n",
      "Epoch 5/30\n",
      "198/198 - 0s - loss: 0.5468 - accuracy: 0.7540 - val_loss: 0.5374 - val_accuracy: 0.8000\n",
      "Epoch 6/30\n",
      "198/198 - 0s - loss: 0.5241 - accuracy: 0.7904 - val_loss: 0.5149 - val_accuracy: 0.7955\n",
      "Epoch 7/30\n",
      "198/198 - 0s - loss: 0.5026 - accuracy: 0.8096 - val_loss: 0.4937 - val_accuracy: 0.8273\n",
      "Epoch 8/30\n",
      "198/198 - 0s - loss: 0.4824 - accuracy: 0.8343 - val_loss: 0.4741 - val_accuracy: 0.8318\n",
      "Epoch 9/30\n",
      "198/198 - 0s - loss: 0.4642 - accuracy: 0.8429 - val_loss: 0.4562 - val_accuracy: 0.8455\n",
      "Epoch 10/30\n",
      "198/198 - 0s - loss: 0.4477 - accuracy: 0.8470 - val_loss: 0.4399 - val_accuracy: 0.8636\n",
      "Epoch 11/30\n",
      "198/198 - 0s - loss: 0.4330 - accuracy: 0.8591 - val_loss: 0.4261 - val_accuracy: 0.8727\n",
      "Epoch 12/30\n",
      "198/198 - 0s - loss: 0.4206 - accuracy: 0.8611 - val_loss: 0.4141 - val_accuracy: 0.8727\n",
      "Epoch 13/30\n",
      "198/198 - 0s - loss: 0.4099 - accuracy: 0.8662 - val_loss: 0.4037 - val_accuracy: 0.8864\n",
      "Epoch 14/30\n",
      "198/198 - 0s - loss: 0.4008 - accuracy: 0.8742 - val_loss: 0.3950 - val_accuracy: 0.8864\n",
      "Epoch 15/30\n",
      "198/198 - 0s - loss: 0.3930 - accuracy: 0.8737 - val_loss: 0.3878 - val_accuracy: 0.9000\n",
      "Epoch 16/30\n",
      "198/198 - 0s - loss: 0.3866 - accuracy: 0.8737 - val_loss: 0.3816 - val_accuracy: 0.9000\n",
      "Epoch 17/30\n",
      "198/198 - 0s - loss: 0.3813 - accuracy: 0.8768 - val_loss: 0.3765 - val_accuracy: 0.9045\n",
      "Epoch 18/30\n",
      "198/198 - 0s - loss: 0.3768 - accuracy: 0.8768 - val_loss: 0.3721 - val_accuracy: 0.9045\n",
      "Epoch 19/30\n",
      "198/198 - 0s - loss: 0.3731 - accuracy: 0.8828 - val_loss: 0.3690 - val_accuracy: 0.9045\n",
      "Epoch 20/30\n",
      "198/198 - 0s - loss: 0.3701 - accuracy: 0.8828 - val_loss: 0.3657 - val_accuracy: 0.9045\n",
      "Epoch 21/30\n",
      "198/198 - 0s - loss: 0.3674 - accuracy: 0.8833 - val_loss: 0.3633 - val_accuracy: 0.9045\n",
      "Epoch 22/30\n",
      "198/198 - 0s - loss: 0.3651 - accuracy: 0.8843 - val_loss: 0.3611 - val_accuracy: 0.9000\n",
      "Epoch 23/30\n",
      "198/198 - 0s - loss: 0.3638 - accuracy: 0.8879 - val_loss: 0.3595 - val_accuracy: 0.9000\n",
      "Epoch 24/30\n",
      "198/198 - 0s - loss: 0.3620 - accuracy: 0.8889 - val_loss: 0.3581 - val_accuracy: 0.9000\n",
      "Epoch 25/30\n",
      "198/198 - 0s - loss: 0.3607 - accuracy: 0.8864 - val_loss: 0.3566 - val_accuracy: 0.9000\n",
      "Epoch 26/30\n",
      "198/198 - 0s - loss: 0.3594 - accuracy: 0.8889 - val_loss: 0.3555 - val_accuracy: 0.9000\n",
      "Epoch 27/30\n",
      "198/198 - 0s - loss: 0.3582 - accuracy: 0.8904 - val_loss: 0.3543 - val_accuracy: 0.9000\n",
      "Epoch 28/30\n",
      "198/198 - 0s - loss: 0.3573 - accuracy: 0.8889 - val_loss: 0.3531 - val_accuracy: 0.9000\n",
      "Epoch 29/30\n",
      "198/198 - 0s - loss: 0.3566 - accuracy: 0.8919 - val_loss: 0.3520 - val_accuracy: 0.9000\n",
      "Epoch 30/30\n",
      "198/198 - 0s - loss: 0.3557 - accuracy: 0.8889 - val_loss: 0.3509 - val_accuracy: 0.9000\n"
     ]
    },
    {
     "data": {
      "text/plain": [
       "<tensorflow.python.keras.callbacks.History at 0x2a3762c5100>"
      ]
     },
     "execution_count": 29,
     "metadata": {},
     "output_type": "execute_result"
    }
   ],
   "source": [
    "model.fit(\n",
    "    x=train_samples_scald,\n",
    "    y=train_labels,\n",
    "    validation_split=0.1,\n",
    "    batch_size=10,\n",
    "    epochs=30,\n",
    "    shuffle=True,\n",
    "    verbose=2\n",
    ")                                      # validation done before shuffle"
   ]
  },
  {
   "cell_type": "markdown",
   "id": "dependent-irish",
   "metadata": {},
   "source": [
    "### Test data"
   ]
  },
  {
   "cell_type": "code",
   "execution_count": 34,
   "id": "thick-advertiser",
   "metadata": {},
   "outputs": [],
   "source": [
    "test_labels = []\n",
    "test_samples = []"
   ]
  },
  {
   "cell_type": "code",
   "execution_count": 35,
   "id": "traditional-suffering",
   "metadata": {},
   "outputs": [],
   "source": [
    "for i in range(10):\n",
    "    younger_rnd = randint(13, 64)\n",
    "    test_samples.append(younger_rnd)\n",
    "    test_labels.append(1)\n",
    "    \n",
    "    older_rnd = randint(65, 100)\n",
    "    test_samples.append(older_rnd)\n",
    "    test_labels.append(0)\n",
    "\n",
    "for i in range(200):\n",
    "    younger_rnd = randint(13, 64)\n",
    "    test_samples.append(younger_rnd)\n",
    "    test_labels.append(0)\n",
    "    \n",
    "    older_rnd = randint(65, 100)\n",
    "    test_samples.append(older_rnd)\n",
    "    test_labels.append(1)"
   ]
  },
  {
   "cell_type": "code",
   "execution_count": 36,
   "id": "determined-lighter",
   "metadata": {},
   "outputs": [],
   "source": [
    "test_labels = np.array(test_labels)\n",
    "test_samples = np.array(test_samples)\n",
    "test_labels, train_samples = shuffle(test_labels, test_samples)"
   ]
  },
  {
   "cell_type": "code",
   "execution_count": 37,
   "id": "liberal-camcorder",
   "metadata": {},
   "outputs": [],
   "source": [
    "scaler = MinMaxScaler(feature_range=(0, 1))\n",
    "test_samples_scald = scaler.fit_transform(test_samples.reshape(-1, 1)) # fit_transform function dosnt allow 1-D data"
   ]
  },
  {
   "cell_type": "markdown",
   "id": "molecular-green",
   "metadata": {},
   "source": [
    "### predict"
   ]
  },
  {
   "cell_type": "code",
   "execution_count": 38,
   "id": "satisfied-western",
   "metadata": {},
   "outputs": [
    {
     "name": "stdout",
     "output_type": "stream",
     "text": [
      "42/42 - 0s\n"
     ]
    }
   ],
   "source": [
    "preds = model.predict(test_samples_scald, batch_size=10, verbose=2)"
   ]
  },
  {
   "cell_type": "code",
   "execution_count": 86,
   "id": "guilty-valuation",
   "metadata": {},
   "outputs": [
    {
     "data": {
      "text/plain": [
       "array([[0.46039397, 0.53960603],\n",
       "       [0.4063723 , 0.59362763],\n",
       "       [0.8472458 , 0.15275416],\n",
       "       [0.05594698, 0.94405305],\n",
       "       [0.92297184, 0.07702813],\n",
       "       [0.2830167 , 0.71698326],\n",
       "       [0.9254531 , 0.07454687],\n",
       "       [0.04667596, 0.953324  ],\n",
       "       [0.46039397, 0.53960603],\n",
       "       [0.08469243, 0.9153076 ],\n",
       "       [0.8165184 , 0.18348159],\n",
       "       [0.35452494, 0.64547503],\n",
       "       [0.92337704, 0.07662299],\n",
       "       [0.04132741, 0.95867264],\n",
       "       [0.9237316 , 0.07626839],\n",
       "       [0.26121575, 0.7387842 ],\n",
       "       [0.8995979 , 0.10040209],\n",
       "       [0.11331875, 0.8866813 ],\n",
       "       [0.9254531 , 0.07454686],\n",
       "       [0.09509657, 0.9049035 ],\n",
       "       [0.7994439 , 0.20055608],\n",
       "       [0.1693525 , 0.8306475 ],\n",
       "       [0.7812062 , 0.21879375],\n",
       "       [0.03887798, 0.96112204],\n",
       "       [0.9188876 , 0.08111238],\n",
       "       [0.10662991, 0.89337003],\n",
       "       [0.92337704, 0.07662299],\n",
       "       [0.12086834, 0.87913173],\n",
       "       [0.9242152 , 0.07578477],\n",
       "       [0.07988705, 0.9201129 ],\n",
       "       [0.6968323 , 0.30316773],\n",
       "       [0.04392407, 0.9560759 ],\n",
       "       [0.92258936, 0.07741062],\n",
       "       [0.07988705, 0.9201129 ],\n",
       "       [0.92465305, 0.07534695],\n",
       "       [0.07101636, 0.9289836 ],\n",
       "       [0.832444  , 0.167556  ],\n",
       "       [0.22099377, 0.77900624],\n",
       "       [0.7812062 , 0.21879375],\n",
       "       [0.38010675, 0.61989325],\n",
       "       [0.9241089 , 0.07589111],\n",
       "       [0.4331847 , 0.5668153 ],\n",
       "       [0.8165184 , 0.18348159],\n",
       "       [0.2830167 , 0.71698326],\n",
       "       [0.9256235 , 0.07437658],\n",
       "       [0.2830167 , 0.71698326],\n",
       "       [0.7994439 , 0.20055608],\n",
       "       [0.07988705, 0.9201129 ],\n",
       "       [0.9254531 , 0.07454686],\n",
       "       [0.24053071, 0.7594692 ],\n",
       "       [0.5153623 , 0.48463765],\n",
       "       [0.14110698, 0.85889304],\n",
       "       [0.8706499 , 0.1293501 ],\n",
       "       [0.4331847 , 0.5668153 ],\n",
       "       [0.9210421 , 0.07895792],\n",
       "       [0.06693015, 0.9330699 ],\n",
       "       [0.54279053, 0.45720944],\n",
       "       [0.35452494, 0.64547503],\n",
       "       [0.91200525, 0.08799472],\n",
       "       [0.08975874, 0.9102413 ],\n",
       "       [0.6730794 , 0.3269206 ],\n",
       "       [0.09509657, 0.9049035 ],\n",
       "       [0.9172878 , 0.08271225],\n",
       "       [0.12985644, 0.8701436 ],\n",
       "       [0.8603781 , 0.13962188],\n",
       "       [0.30588394, 0.69411606],\n",
       "       [0.9214316 , 0.07856848],\n",
       "       [0.20262025, 0.79737973],\n",
       "       [0.9252305 , 0.07476951],\n",
       "       [0.38010675, 0.61989325],\n",
       "       [0.8706499 , 0.1293501 ],\n",
       "       [0.18541075, 0.8145892 ],\n",
       "       [0.91483593, 0.08516404],\n",
       "       [0.06693015, 0.9330699 ],\n",
       "       [0.9252305 , 0.07476951],\n",
       "       [0.04132741, 0.95867264],\n",
       "       [0.62291044, 0.3770895 ],\n",
       "       [0.22099377, 0.77900624],\n",
       "       [0.9250886 , 0.07491145],\n",
       "       [0.08469243, 0.9153076 ],\n",
       "       [0.8603781 , 0.13962188],\n",
       "       [0.35452494, 0.64547503],\n",
       "       [0.8165184 , 0.18348159],\n",
       "       [0.4331847 , 0.5668153 ],\n",
       "       [0.90876734, 0.09123264],\n",
       "       [0.10071675, 0.8992833 ],\n",
       "       [0.46039397, 0.53960603],\n",
       "       [0.15442134, 0.8455787 ],\n",
       "       [0.8865885 , 0.11341153],\n",
       "       [0.06693015, 0.9330699 ],\n",
       "       [0.7812062 , 0.21879375],\n",
       "       [0.10662991, 0.89337003],\n",
       "       [0.9206509 , 0.07934915],\n",
       "       [0.08975874, 0.9102413 ],\n",
       "       [0.6968323 , 0.30316773],\n",
       "       [0.22099377, 0.77900624],\n",
       "       [0.92181915, 0.07818076],\n",
       "       [0.1693525 , 0.8306475 ],\n",
       "       [0.91200525, 0.08799472],\n",
       "       [0.04959131, 0.95040864],\n",
       "       [0.91200525, 0.08799472],\n",
       "       [0.08975874, 0.9102413 ],\n",
       "       [0.6730794 , 0.3269206 ],\n",
       "       [0.06306311, 0.9369369 ],\n",
       "       [0.87895614, 0.12104391],\n",
       "       [0.30588394, 0.69411606],\n",
       "       [0.64840436, 0.35159564],\n",
       "       [0.20262025, 0.79737973],\n",
       "       [0.6968323 , 0.30316773],\n",
       "       [0.18541075, 0.8145892 ],\n",
       "       [0.9172878 , 0.08271225],\n",
       "       [0.09509657, 0.9049035 ],\n",
       "       [0.92465305, 0.07534695],\n",
       "       [0.22099377, 0.77900624],\n",
       "       [0.8865885 , 0.11341153],\n",
       "       [0.4331847 , 0.5668153 ],\n",
       "       [0.9237316 , 0.07626839],\n",
       "       [0.04959131, 0.95040864],\n",
       "       [0.92448443, 0.07551553],\n",
       "       [0.10662991, 0.89337003],\n",
       "       [0.92181915, 0.07818076],\n",
       "       [0.04132741, 0.95867264],\n",
       "       [0.8165184 , 0.18348159],\n",
       "       [0.05594698, 0.94405305],\n",
       "       [0.9210421 , 0.07895792],\n",
       "       [0.08975874, 0.9102413 ],\n",
       "       [0.9172878 , 0.08271225],\n",
       "       [0.12985644, 0.8701436 ],\n",
       "       [0.9254531 , 0.07454686],\n",
       "       [0.0526787 , 0.9473213 ],\n",
       "       [0.92448443, 0.07551553],\n",
       "       [0.2830167 , 0.71698326],\n",
       "       [0.9248583 , 0.07514168],\n",
       "       [0.03887798, 0.96112204],\n",
       "       [0.9250886 , 0.07491146],\n",
       "       [0.04392407, 0.9560759 ],\n",
       "       [0.87895614, 0.12104391],\n",
       "       [0.12985644, 0.8701436 ],\n",
       "       [0.9252305 , 0.07476951],\n",
       "       [0.07533183, 0.92466813],\n",
       "       [0.92258936, 0.07741062],\n",
       "       [0.24053071, 0.7594692 ],\n",
       "       [0.922003  , 0.07799708],\n",
       "       [0.11331875, 0.8866813 ],\n",
       "       [0.832444  , 0.167556  ],\n",
       "       [0.08469243, 0.9153076 ],\n",
       "       [0.6968323 , 0.30316773],\n",
       "       [0.0526787 , 0.9473213 ],\n",
       "       [0.7812062 , 0.21879375],\n",
       "       [0.22099377, 0.77900624],\n",
       "       [0.9256235 , 0.07437658],\n",
       "       [0.20262025, 0.79737973],\n",
       "       [0.64840436, 0.35159564],\n",
       "       [0.07101636, 0.9289836 ],\n",
       "       [0.8995979 , 0.10040209],\n",
       "       [0.06306311, 0.9369369 ],\n",
       "       [0.6730794 , 0.3269206 ],\n",
       "       [0.07101636, 0.9289836 ],\n",
       "       [0.87895614, 0.12104391],\n",
       "       [0.35452494, 0.64547503],\n",
       "       [0.8995979 , 0.10040209],\n",
       "       [0.04392407, 0.9560759 ],\n",
       "       [0.8865885 , 0.11341153],\n",
       "       [0.0594053 , 0.9405947 ],\n",
       "       [0.9252305 , 0.07476951],\n",
       "       [0.08975874, 0.9102413 ],\n",
       "       [0.56996167, 0.4300383 ],\n",
       "       [0.07533183, 0.92466813],\n",
       "       [0.5967177 , 0.40328228],\n",
       "       [0.22099377, 0.77900624],\n",
       "       [0.54279053, 0.45720944],\n",
       "       [0.12985644, 0.8701436 ],\n",
       "       [0.62291044, 0.3770895 ],\n",
       "       [0.06693015, 0.9330699 ],\n",
       "       [0.9188876 , 0.08111238],\n",
       "       [0.12086834, 0.87913173],\n",
       "       [0.71957844, 0.2804216 ],\n",
       "       [0.38010675, 0.61989325],\n",
       "       [0.92465305, 0.07534695],\n",
       "       [0.04959131, 0.95040864],\n",
       "       [0.8933622 , 0.10663772],\n",
       "       [0.03887798, 0.96112204],\n",
       "       [0.71957844, 0.2804216 ],\n",
       "       [0.07988705, 0.9201129 ],\n",
       "       [0.9237316 , 0.07626839],\n",
       "       [0.22099377, 0.77900624],\n",
       "       [0.9250886 , 0.07491146],\n",
       "       [0.07988705, 0.9201129 ],\n",
       "       [0.9252305 , 0.07476951],\n",
       "       [0.10071675, 0.8992833 ],\n",
       "       [0.92465305, 0.07534695],\n",
       "       [0.05594698, 0.94405305],\n",
       "       [0.7994439 , 0.20055608],\n",
       "       [0.03887798, 0.96112204],\n",
       "       [0.9242152 , 0.07578477],\n",
       "       [0.11331875, 0.8866813 ],\n",
       "       [0.9256009 , 0.07439905],\n",
       "       [0.15442134, 0.8455787 ],\n",
       "       [0.7994439 , 0.20055608],\n",
       "       [0.08975874, 0.9102413 ],\n",
       "       [0.9204592 , 0.07954081],\n",
       "       [0.24053071, 0.7594692 ],\n",
       "       [0.92448443, 0.07551553],\n",
       "       [0.12086834, 0.87913173],\n",
       "       [0.8603781 , 0.13962188],\n",
       "       [0.1693525 , 0.8306475 ],\n",
       "       [0.64840436, 0.35159564],\n",
       "       [0.20262025, 0.79737973],\n",
       "       [0.92337704, 0.07662299],\n",
       "       [0.30588394, 0.69411606],\n",
       "       [0.8865885 , 0.11341153],\n",
       "       [0.4063723 , 0.59362763],\n",
       "       [0.9206509 , 0.07934915],\n",
       "       [0.05594698, 0.94405305],\n",
       "       [0.8603781 , 0.13962188],\n",
       "       [0.06306311, 0.9369369 ],\n",
       "       [0.9237316 , 0.07626839],\n",
       "       [0.18541075, 0.8145892 ],\n",
       "       [0.87895614, 0.12104391],\n",
       "       [0.24053071, 0.7594692 ],\n",
       "       [0.92258936, 0.07741062],\n",
       "       [0.20262025, 0.79737973],\n",
       "       [0.9241089 , 0.07589111],\n",
       "       [0.08975874, 0.9102413 ],\n",
       "       [0.6968323 , 0.30316773],\n",
       "       [0.07101636, 0.9289836 ],\n",
       "       [0.7412516 , 0.25874835],\n",
       "       [0.06306311, 0.9369369 ],\n",
       "       [0.87895614, 0.12104391],\n",
       "       [0.141107  , 0.85889304],\n",
       "       [0.92335254, 0.07664742],\n",
       "       [0.05594698, 0.94405305],\n",
       "       [0.87895614, 0.12104391],\n",
       "       [0.10662991, 0.89337003],\n",
       "       [0.9237316 , 0.07626839],\n",
       "       [0.12086834, 0.87913173],\n",
       "       [0.91200525, 0.08799472],\n",
       "       [0.04132741, 0.95867264],\n",
       "       [0.90876734, 0.09123264],\n",
       "       [0.10662991, 0.89337003],\n",
       "       [0.64840436, 0.35159564],\n",
       "       [0.06693015, 0.9330699 ],\n",
       "       [0.8865885 , 0.11341153],\n",
       "       [0.07101636, 0.9289836 ],\n",
       "       [0.7618043 , 0.23819572],\n",
       "       [0.24053071, 0.7594692 ],\n",
       "       [0.7994439 , 0.20055608],\n",
       "       [0.4063723 , 0.59362763],\n",
       "       [0.914836  , 0.08516403],\n",
       "       [0.04392407, 0.9560759 ],\n",
       "       [0.9250886 , 0.07491146],\n",
       "       [0.32974884, 0.67025113],\n",
       "       [0.9045912 , 0.09540884],\n",
       "       [0.14110698, 0.85889304],\n",
       "       [0.7812062 , 0.21879375],\n",
       "       [0.2830167 , 0.71698326],\n",
       "       [0.90876734, 0.09123264],\n",
       "       [0.04959131, 0.95040864],\n",
       "       [0.9254531 , 0.07454686],\n",
       "       [0.04667596, 0.953324  ],\n",
       "       [0.91200525, 0.08799472],\n",
       "       [0.12985644, 0.8701436 ],\n",
       "       [0.9241089 , 0.07589111],\n",
       "       [0.24053071, 0.7594692 ],\n",
       "       [0.832444  , 0.167556  ],\n",
       "       [0.0594053 , 0.9405947 ],\n",
       "       [0.8933622 , 0.10663772],\n",
       "       [0.4063723 , 0.59362763],\n",
       "       [0.9172877 , 0.08271225],\n",
       "       [0.10071675, 0.8992833 ],\n",
       "       [0.62291044, 0.3770895 ],\n",
       "       [0.08975874, 0.9102413 ],\n",
       "       [0.92448443, 0.07551553],\n",
       "       [0.08975874, 0.9102413 ],\n",
       "       [0.9252305 , 0.07476951],\n",
       "       [0.03887798, 0.96112204],\n",
       "       [0.9254531 , 0.07454687],\n",
       "       [0.12985644, 0.8701436 ],\n",
       "       [0.92337704, 0.07662299],\n",
       "       [0.12086834, 0.87913173],\n",
       "       [0.9242152 , 0.07578477],\n",
       "       [0.07988705, 0.9201129 ],\n",
       "       [0.9242152 , 0.07578477],\n",
       "       [0.04132741, 0.95867264],\n",
       "       [0.9222052 , 0.07779481],\n",
       "       [0.11331875, 0.8866813 ],\n",
       "       [0.9252305 , 0.07476951],\n",
       "       [0.07533183, 0.92466813],\n",
       "       [0.62291044, 0.3770895 ],\n",
       "       [0.04667596, 0.953324  ],\n",
       "       [0.8165184 , 0.18348159],\n",
       "       [0.04959131, 0.95040864],\n",
       "       [0.92465305, 0.07534695],\n",
       "       [0.30588394, 0.69411606],\n",
       "       [0.922003  , 0.07799708],\n",
       "       [0.04132741, 0.95867264],\n",
       "       [0.8865885 , 0.11341153],\n",
       "       [0.14110698, 0.85889304],\n",
       "       [0.87895614, 0.12104391],\n",
       "       [0.15442134, 0.8455787 ],\n",
       "       [0.92258936, 0.07741062],\n",
       "       [0.08975874, 0.9102413 ],\n",
       "       [0.9045912 , 0.09540884],\n",
       "       [0.35452494, 0.64547503],\n",
       "       [0.832444  , 0.167556  ],\n",
       "       [0.14110698, 0.85889304],\n",
       "       [0.9204592 , 0.07954081],\n",
       "       [0.08469243, 0.9153076 ],\n",
       "       [0.5153623 , 0.48463765],\n",
       "       [0.03887798, 0.96112204],\n",
       "       [0.92448443, 0.07551553],\n",
       "       [0.2830167 , 0.71698326],\n",
       "       [0.9254531 , 0.07454687],\n",
       "       [0.04667596, 0.953324  ],\n",
       "       [0.8472458 , 0.15275416],\n",
       "       [0.24053071, 0.7594692 ],\n",
       "       [0.8933622 , 0.10663772],\n",
       "       [0.10071675, 0.8992833 ],\n",
       "       [0.92335254, 0.07664742],\n",
       "       [0.06693015, 0.9330699 ],\n",
       "       [0.9045912 , 0.09540884],\n",
       "       [0.30588394, 0.69411606],\n",
       "       [0.9256009 , 0.07439905],\n",
       "       [0.18541075, 0.8145892 ],\n",
       "       [0.92448443, 0.07551553],\n",
       "       [0.05594698, 0.94405305],\n",
       "       [0.9248583 , 0.07514168],\n",
       "       [0.22099377, 0.77900624],\n",
       "       [0.46039397, 0.53960603],\n",
       "       [0.04392407, 0.9560759 ],\n",
       "       [0.922003  , 0.07799708],\n",
       "       [0.07101636, 0.9289836 ],\n",
       "       [0.6730794 , 0.3269206 ],\n",
       "       [0.06306311, 0.9369369 ],\n",
       "       [0.9237316 , 0.07626839],\n",
       "       [0.38010675, 0.61989325],\n",
       "       [0.9204592 , 0.07954081],\n",
       "       [0.22099377, 0.77900624],\n",
       "       [0.92337704, 0.07662299],\n",
       "       [0.0594053 , 0.9405947 ],\n",
       "       [0.9214316 , 0.07856848],\n",
       "       [0.10071675, 0.8992833 ],\n",
       "       [0.9254531 , 0.07454687],\n",
       "       [0.0594053 , 0.9405947 ],\n",
       "       [0.9222052 , 0.07779481],\n",
       "       [0.04132741, 0.95867264],\n",
       "       [0.9248583 , 0.07514168],\n",
       "       [0.15442134, 0.8455787 ],\n",
       "       [0.9045912 , 0.09540884],\n",
       "       [0.10071675, 0.8992833 ],\n",
       "       [0.91200525, 0.08799472],\n",
       "       [0.1693525 , 0.8306475 ],\n",
       "       [0.62291044, 0.3770895 ],\n",
       "       [0.12985644, 0.8701436 ],\n",
       "       [0.4878414 , 0.5121586 ],\n",
       "       [0.07101636, 0.9289836 ],\n",
       "       [0.62291044, 0.3770895 ],\n",
       "       [0.06306311, 0.9369369 ],\n",
       "       [0.922003  , 0.07799708],\n",
       "       [0.15442134, 0.8455787 ],\n",
       "       [0.9214316 , 0.07856848],\n",
       "       [0.08469243, 0.9153076 ],\n",
       "       [0.832444  , 0.167556  ],\n",
       "       [0.06693015, 0.9330699 ],\n",
       "       [0.9188876 , 0.08111238],\n",
       "       [0.0594053 , 0.9405947 ],\n",
       "       [0.92337704, 0.07662299],\n",
       "       [0.08975874, 0.9102413 ],\n",
       "       [0.8995979 , 0.10040209],\n",
       "       [0.04132741, 0.95867264],\n",
       "       [0.5153623 , 0.48463765],\n",
       "       [0.08469243, 0.9153076 ],\n",
       "       [0.9222052 , 0.07779481],\n",
       "       [0.07533183, 0.92466813],\n",
       "       [0.9242152 , 0.07578477],\n",
       "       [0.14110698, 0.85889304],\n",
       "       [0.9250886 , 0.07491146],\n",
       "       [0.11331875, 0.8866813 ],\n",
       "       [0.8472458 , 0.15275416],\n",
       "       [0.04959131, 0.95040864],\n",
       "       [0.9237316 , 0.07626839],\n",
       "       [0.04667596, 0.953324  ],\n",
       "       [0.92297184, 0.07702813],\n",
       "       [0.12985644, 0.8701436 ],\n",
       "       [0.46039397, 0.53960603],\n",
       "       [0.10662991, 0.89337003],\n",
       "       [0.92337704, 0.07662299],\n",
       "       [0.1693525 , 0.8306475 ],\n",
       "       [0.8603781 , 0.13962188],\n",
       "       [0.26121575, 0.7387842 ],\n",
       "       [0.92335254, 0.07664742],\n",
       "       [0.10071675, 0.8992833 ],\n",
       "       [0.8706499 , 0.1293501 ],\n",
       "       [0.0526787 , 0.9473213 ],\n",
       "       [0.56996167, 0.4300383 ],\n",
       "       [0.04132741, 0.95867264],\n",
       "       [0.92465305, 0.07534695],\n",
       "       [0.0526787 , 0.9473213 ],\n",
       "       [0.8706499 , 0.1293501 ],\n",
       "       [0.1693525 , 0.8306475 ],\n",
       "       [0.8472458 , 0.15275416],\n",
       "       [0.38010675, 0.61989325],\n",
       "       [0.8865885 , 0.11341153],\n",
       "       [0.10071675, 0.8992833 ],\n",
       "       [0.9252305 , 0.07476951],\n",
       "       [0.2830167 , 0.71698326],\n",
       "       [0.9256009 , 0.07439905],\n",
       "       [0.08469243, 0.9153076 ],\n",
       "       [0.92448443, 0.07551553],\n",
       "       [0.30588394, 0.69411606],\n",
       "       [0.9172878 , 0.08271225],\n",
       "       [0.06693015, 0.9330699 ],\n",
       "       [0.9256009 , 0.07439905],\n",
       "       [0.12985644, 0.8701436 ],\n",
       "       [0.62291044, 0.3770895 ],\n",
       "       [0.03887798, 0.96112204],\n",
       "       [0.9252305 , 0.07476951],\n",
       "       [0.24053071, 0.7594692 ],\n",
       "       [0.7618043 , 0.23819572],\n",
       "       [0.04392407, 0.9560759 ]], dtype=float32)"
      ]
     },
     "execution_count": 86,
     "metadata": {},
     "output_type": "execute_result"
    }
   ],
   "source": [
    "preds"
   ]
  },
  {
   "cell_type": "code",
   "execution_count": 40,
   "id": "needed-means",
   "metadata": {},
   "outputs": [],
   "source": [
    "preds_round = np.argmax(preds, axis=-1)"
   ]
  },
  {
   "cell_type": "code",
   "execution_count": 41,
   "id": "attempted-generic",
   "metadata": {},
   "outputs": [
    {
     "data": {
      "text/plain": [
       "array([1, 1, 0, 1, 0, 1, 0, 1, 1, 1, 0, 1, 0, 1, 0, 1, 0, 1, 0, 1, 0, 1,\n",
       "       0, 1, 0, 1, 0, 1, 0, 1, 0, 1, 0, 1, 0, 1, 0, 1, 0, 1, 0, 1, 0, 1,\n",
       "       0, 1, 0, 1, 0, 1, 0, 1, 0, 1, 0, 1, 0, 1, 0, 1, 0, 1, 0, 1, 0, 1,\n",
       "       0, 1, 0, 1, 0, 1, 0, 1, 0, 1, 0, 1, 0, 1, 0, 1, 0, 1, 0, 1, 1, 1,\n",
       "       0, 1, 0, 1, 0, 1, 0, 1, 0, 1, 0, 1, 0, 1, 0, 1, 0, 1, 0, 1, 0, 1,\n",
       "       0, 1, 0, 1, 0, 1, 0, 1, 0, 1, 0, 1, 0, 1, 0, 1, 0, 1, 0, 1, 0, 1,\n",
       "       0, 1, 0, 1, 0, 1, 0, 1, 0, 1, 0, 1, 0, 1, 0, 1, 0, 1, 0, 1, 0, 1,\n",
       "       0, 1, 0, 1, 0, 1, 0, 1, 0, 1, 0, 1, 0, 1, 0, 1, 0, 1, 0, 1, 0, 1,\n",
       "       0, 1, 0, 1, 0, 1, 0, 1, 0, 1, 0, 1, 0, 1, 0, 1, 0, 1, 0, 1, 0, 1,\n",
       "       0, 1, 0, 1, 0, 1, 0, 1, 0, 1, 0, 1, 0, 1, 0, 1, 0, 1, 0, 1, 0, 1,\n",
       "       0, 1, 0, 1, 0, 1, 0, 1, 0, 1, 0, 1, 0, 1, 0, 1, 0, 1, 0, 1, 0, 1,\n",
       "       0, 1, 0, 1, 0, 1, 0, 1, 0, 1, 0, 1, 0, 1, 0, 1, 0, 1, 0, 1, 0, 1,\n",
       "       0, 1, 0, 1, 0, 1, 0, 1, 0, 1, 0, 1, 0, 1, 0, 1, 0, 1, 0, 1, 0, 1,\n",
       "       0, 1, 0, 1, 0, 1, 0, 1, 0, 1, 0, 1, 0, 1, 0, 1, 0, 1, 0, 1, 0, 1,\n",
       "       0, 1, 0, 1, 0, 1, 0, 1, 0, 1, 0, 1, 0, 1, 0, 1, 0, 1, 0, 1, 1, 1,\n",
       "       0, 1, 0, 1, 0, 1, 0, 1, 0, 1, 0, 1, 0, 1, 0, 1, 0, 1, 0, 1, 0, 1,\n",
       "       0, 1, 1, 1, 0, 1, 0, 1, 0, 1, 0, 1, 0, 1, 0, 1, 0, 1, 0, 1, 0, 1,\n",
       "       0, 1, 0, 1, 0, 1, 0, 1, 0, 1, 1, 1, 0, 1, 0, 1, 0, 1, 0, 1, 0, 1,\n",
       "       0, 1, 0, 1, 0, 1, 0, 1, 0, 1, 0, 1, 0, 1, 0, 1, 0, 1, 0, 1, 0, 1,\n",
       "       0, 1], dtype=int64)"
      ]
     },
     "execution_count": 41,
     "metadata": {},
     "output_type": "execute_result"
    }
   ],
   "source": [
    "preds_round"
   ]
  },
  {
   "cell_type": "markdown",
   "id": "foreign-employer",
   "metadata": {},
   "source": [
    "### Evaluate the model performence"
   ]
  },
  {
   "cell_type": "code",
   "execution_count": 55,
   "id": "exceptional-heater",
   "metadata": {},
   "outputs": [],
   "source": [
    "from sklearn.metrics import plot_confusion_matrix\n",
    "import itertools\n",
    "import matplotlib.pyplot as plt"
   ]
  },
  {
   "cell_type": "code",
   "execution_count": 78,
   "id": "institutional-concrete",
   "metadata": {},
   "outputs": [
    {
     "name": "stdout",
     "output_type": "stream",
     "text": [
      "[[111  99]\n",
      " [ 93 117]]\n"
     ]
    }
   ],
   "source": [
    "cm = confusion_matrix(y_true=test_labels, y_pred=preds_round, normalize=None)\n",
    "print(cm)"
   ]
  },
  {
   "cell_type": "code",
   "execution_count": 79,
   "id": "streaming-works",
   "metadata": {},
   "outputs": [
    {
     "data": {
      "text/plain": [
       "Text(87.02500000000006, 0.5, 'true')"
      ]
     },
     "execution_count": 79,
     "metadata": {},
     "output_type": "execute_result"
    },
    {
     "data": {
      "image/png": "[encoded data removed]",
      "text/plain": [
       "<Figure size 432x288 with 2 Axes>"
      ]
     },
     "metadata": {
      "needs_background": "light"
     },
     "output_type": "display_data"
    }
   ],
   "source": [
    "classes = [0, 1]\n",
    "plt.imshow(cm, interpolation='nearest', cmap=plt.cm.Blues)\n",
    "plt.colorbar()\n",
    "ticks = np.arange(len(classes))\n",
    "plt.xticks(ticks, classes)\n",
    "plt.yticks(ticks, classes)\n",
    "plt.tight_layout()\n",
    "plt.xlabel('preds')\n",
    "plt.ylabel('true')"
   ]
  },
  {
   "cell_type": "code",
   "execution_count": 80,
   "id": "reliable-maryland",
   "metadata": {},
   "outputs": [],
   "source": [
    "import seaborn as sns"
   ]
  },
  {
   "cell_type": "code",
   "execution_count": 84,
   "id": "missing-advance",
   "metadata": {},
   "outputs": [
    {
     "data": {
      "text/plain": [
       "<AxesSubplot:>"
      ]
     },
     "execution_count": 84,
     "metadata": {},
     "output_type": "execute_result"
    },
    {
     "data": {
      "image/png": "[encoded data removed]",
      "text/plain": [
       "<Figure size 432x288 with 2 Axes>"
      ]
     },
     "metadata": {
      "needs_background": "light"
     },
     "output_type": "display_data"
    }
   ],
   "source": [
    "sns.heatmap(cm, annot=True, fmt='')"
   ]
  },
  {
   "cell_type": "code",
   "execution_count": null,
   "id": "ahead-accreditation",
   "metadata": {},
   "outputs": [],
   "source": [
    "if False:\n",
    "    model.save()\n",
    "    model.save_weights()\n",
    "\n",
    "    model.to_json()\n",
    "    model.to_yaml()"
   ]
  }
 ],
 "metadata": {
  "kernelspec": {
   "display_name": "Python 3",
   "language": "python",
   "name": "python3"
  },
  "language_info": {
   "codemirror_mode": {
    "name": "ipython",
    "version": 3
   },
   "file_extension": ".py",
   "mimetype": "text/x-python",
   "name": "python",
   "nbconvert_exporter": "python",
   "pygments_lexer": "ipython3",
   "version": "3.8.8"
  }
 },
 "nbformat": 4,
 "nbformat_minor": 5
}
